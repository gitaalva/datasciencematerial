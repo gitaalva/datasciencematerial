{
 "cells": [
  {
   "cell_type": "markdown",
   "metadata": {},
   "source": [
    "# Distance and similarity functions"
   ]
  },
  {
   "cell_type": "code",
   "execution_count": null,
   "metadata": {
    "collapsed": false
   },
   "outputs": [],
   "source": [
    "import numpy as np\n",
    "import scipy as sp\n",
    "import matplotlib.pyplot as plt\n",
    "import sklearn as sk\n",
    "import sklearn.datasets as sk_data\n",
    "import sklearn.metrics as metrics\n",
    "import seaborn as sns\n",
    "\n",
    "import time\n",
    "\n",
    "%matplotlib inline"
   ]
  },
  {
   "cell_type": "markdown",
   "metadata": {},
   "source": [
    "## Brief intro to numpy:  http://www.numpy.org/   or for more references: http://docs.scipy.org/doc/numpy/reference/index.html"
   ]
  },
  {
   "cell_type": "markdown",
   "metadata": {},
   "source": [
    "### Why numpy?"
   ]
  },
  {
   "cell_type": "code",
   "execution_count": null,
   "metadata": {
    "collapsed": false
   },
   "outputs": [],
   "source": [
    "\n",
    "def trad_version():\n",
    "    t1 = time.time()\n",
    "    X = range(10000000)\n",
    "    Y = range(10000000)\n",
    "    Z = []\n",
    "    for i in range(len(X)):\n",
    "        Z.append(X[i] + Y[i])\n",
    "    return time.time() - t1\n",
    "\n",
    "def numpy_version():\n",
    "    t1 = time.time()\n",
    "    X = np.arange(10000000)\n",
    "    Y = np.arange(10000000)\n",
    "    Z = X + Y\n",
    "    return time.time() - t1\n",
    "\n",
    "\n",
    "traditional_time = trad_version()\n",
    "numpy_time = numpy_version()\n",
    "print \"Traditional time = \"+ str(traditional_time)\n",
    "print \"Numpy time       = \"+ str(numpy_time)"
   ]
  },
  {
   "cell_type": "markdown",
   "metadata": {},
   "source": [
    "### Arrays in numpy"
   ]
  },
  {
   "cell_type": "code",
   "execution_count": null,
   "metadata": {
    "collapsed": false
   },
   "outputs": [],
   "source": [
    "#1-dimensional arrays\n",
    "x = np.array([2,5,18,14,4])\n",
    "print \"\\n Deterministic 1-dimensional array \\n\"\n",
    "print x\n",
    "\n",
    "x = np.random.rand(5)\n",
    "print \"\\n Random 1-dimensional array \\n\"\n",
    "print x\n",
    "\n",
    "#2-dimensional arrays\n",
    "x = np.array([[2,5,18,14,4], [12,15,1,2,8]])\n",
    "print \"\\n Deterministic 2-dimensional array \\n\"\n",
    "print x\n",
    "\n",
    "x = np.random.rand(5,5)\n",
    "print \"\\n Random 2-dimensional array \\n\"\n",
    "print x\n",
    "print x.shape\n",
    "\n"
   ]
  },
  {
   "cell_type": "markdown",
   "metadata": {},
   "source": [
    "### Manipulating and aggregating arrays"
   ]
  },
  {
   "cell_type": "code",
   "execution_count": null,
   "metadata": {
    "collapsed": false
   },
   "outputs": [],
   "source": [
    "x = np.random.rand(5)\n",
    "print x\n",
    "print x+1"
   ]
  },
  {
   "cell_type": "markdown",
   "metadata": {},
   "source": [
    "### Aggregates"
   ]
  },
  {
   "cell_type": "code",
   "execution_count": null,
   "metadata": {
    "collapsed": false,
    "scrolled": true
   },
   "outputs": [],
   "source": [
    "x = np.random.rand(2,4)\n",
    "print x\n",
    "print np.mean(x)\n",
    "print np.mean(x,0)\n",
    "print np.std(x)\n",
    "print np.std(x,1)\n",
    "print np.median(x)\n",
    "print np.median(x,1)\n",
    "print np.sum(x)\n",
    "print np.sum(x,1)\n",
    "print np.prod(x)\n",
    "print np.prod(x,1)"
   ]
  },
  {
   "cell_type": "markdown",
   "metadata": {},
   "source": [
    "## Generating synthetic data"
   ]
  },
  {
   "cell_type": "markdown",
   "metadata": {},
   "source": [
    "Random data are the simplest data one can generate. Other types of data following different distributions can be generated with functions extensively discussed below.\n",
    "\n",
    "http://docs.scipy.org/doc/numpy/reference/routines.random.html"
   ]
  },
  {
   "cell_type": "code",
   "execution_count": null,
   "metadata": {
    "collapsed": false
   },
   "outputs": [],
   "source": [
    "A = np.random.rand(2,15)\n",
    "print (A)"
   ]
  },
  {
   "cell_type": "code",
   "execution_count": null,
   "metadata": {
    "collapsed": false
   },
   "outputs": [],
   "source": [
    "B = np.random.randint(2,size = (2,15))\n",
    "print B"
   ]
  },
  {
   "cell_type": "markdown",
   "metadata": {},
   "source": [
    "#### Euclidean distance"
   ]
  },
  {
   "cell_type": "code",
   "execution_count": null,
   "metadata": {
    "collapsed": false
   },
   "outputs": [],
   "source": [
    "D = np.sqrt(np.sum(np.square(A[0,:]-A[1,:])))\n",
    "print D"
   ]
  },
  {
   "cell_type": "code",
   "execution_count": null,
   "metadata": {
    "collapsed": false
   },
   "outputs": [],
   "source": [
    "def my_euclidean_dist(x,y):\n",
    "    return np.sqrt(np.sum(np.square(x-y)))"
   ]
  },
  {
   "cell_type": "code",
   "execution_count": null,
   "metadata": {
    "collapsed": false
   },
   "outputs": [],
   "source": [
    "d1 = my_euclidean_dist(A[0,:],A[1,:])\n",
    "d2 = my_euclidean_dist(B[0,:],B[1,:])\n",
    "print d1\n",
    "print d2"
   ]
  },
  {
   "cell_type": "markdown",
   "metadata": {},
   "source": [
    "### Becoming more effective and efficient using scikit-learn, a set of libraries for data mining, data analysis and machine learning  http://scikit-learn.org/stable/"
   ]
  },
  {
   "cell_type": "markdown",
   "metadata": {},
   "source": [
    "Generating data with specific structure using **sklearn.datasets**"
   ]
  },
  {
   "cell_type": "code",
   "execution_count": null,
   "metadata": {
    "collapsed": false
   },
   "outputs": [],
   "source": [
    "X, y = sk_data.make_blobs(n_samples=100, centers=3, n_features=2,center_box=(-30.0, 30.0),random_state=0)\n",
    "print X.shape, y.shape, type(y)\n",
    "\n",
    "plt.plot(X[y==1,0],X[y==1,1],'bo')\n",
    "plt.plot(X[y==0,0],X[y==0,1],'go')\n",
    "plt.plot(X[y==2,0],X[y==2,1],'ro')"
   ]
  },
  {
   "cell_type": "code",
   "execution_count": null,
   "metadata": {
    "collapsed": false
   },
   "outputs": [],
   "source": [
    "euclidean_dists = metrics.euclidean_distances(X)\n",
    "# print euclidean_dists.shape\n",
    "\n",
    "z = y\n",
    "idx = np.argsort(z)\n",
    "rearranged_dists = euclidean_dists[idx,:][:,idx]\n",
    "\n",
    "\n",
    "\n",
    "# Plot the matrices in a single row, using fig, (ax1, ax2) = plt.subplots(1,2,figsize=(15,10))\n",
    "fig, (ax1, ax2) = plt.subplots(1,2,figsize=(15,10))\n",
    "sns.heatmap(euclidean_dists, xticklabels=False, yticklabels=False, linewidths=0, ax=ax1, square=True, cbar=False)\n",
    "sns.heatmap(rearranged_dists, xticklabels=False, yticklabels=False, linewidths=0, ax=ax2, square=True, cbar=False)\n",
    "\n"
   ]
  },
  {
   "cell_type": "markdown",
   "metadata": {},
   "source": [
    "Another way of generating data using **sklearn.datasets**"
   ]
  },
  {
   "cell_type": "code",
   "execution_count": null,
   "metadata": {
    "collapsed": false
   },
   "outputs": [],
   "source": [
    "data, rows, columns = sk_data.make_biclusters(\n",
    "    shape=(300, 50), n_clusters=2, noise=0.5,\n",
    "    shuffle=False, random_state=0)\n",
    "#data[data>5] = 1\n",
    "sns.heatmap(data, xticklabels=False, yticklabels=False, linewidths=0)\n",
    "print type(data)\n",
    "print data.shape\n"
   ]
  },
  {
   "cell_type": "code",
   "execution_count": null,
   "metadata": {
    "collapsed": false
   },
   "outputs": [],
   "source": [
    "newd = np.reshape(data,data.shape[0]*data.shape[1])\n",
    "plt.hist(newd)\n"
   ]
  },
  {
   "cell_type": "code",
   "execution_count": null,
   "metadata": {
    "collapsed": false
   },
   "outputs": [],
   "source": [
    "data[data<40] = 0\n",
    "data[data>=40] = 1\n",
    "sns.heatmap(data, xticklabels=False, yticklabels=False, linewidths=0)"
   ]
  },
  {
   "cell_type": "code",
   "execution_count": null,
   "metadata": {
    "collapsed": false
   },
   "outputs": [],
   "source": [
    "\n",
    "shuffled_data, row_idx = sk.utils.shuffle(data, np.arange(data.shape[0]), random_state=100)\n",
    "shuffled_data, col_idx = sk.utils.shuffle(shuffled_data.T, np.arange(data.shape[1]), random_state=100)\n",
    "shuffled_data = shuffled_data.T\n",
    "sns.heatmap(shuffled_data, xticklabels=False, yticklabels=False, linewidths=0)\n",
    "\n"
   ]
  },
  {
   "cell_type": "code",
   "execution_count": null,
   "metadata": {
    "collapsed": false
   },
   "outputs": [],
   "source": [
    "jacc_dists = metrics.pairwise_distances(data,Y=None,metric='jaccard', n_jobs=1)\n",
    "\n",
    "sns.heatmap(jacc_dists, xticklabels=False, yticklabels=False, linewidths=0)\n",
    "\n"
   ]
  },
  {
   "cell_type": "code",
   "execution_count": null,
   "metadata": {
    "collapsed": false
   },
   "outputs": [],
   "source": [
    "jacc_dists = metrics.pairwise_distances(shuffled_data,Y=None,metric='jaccard', n_jobs=1)\n",
    "\n",
    "\n",
    "y = [ row_idx.tolist().index(i) for i in range(len(row_idx))]\n",
    "\n",
    "rearranged_dists = jacc_dists[y,:][:,y]\n",
    "\n",
    "\n",
    "sns.heatmap(rearranged_dists, xticklabels=False, yticklabels=False, linewidths=0)\n",
    "\n"
   ]
  },
  {
   "cell_type": "markdown",
   "metadata": {},
   "source": [
    "We can compute pairwise distances using the **sklearn.metrics** functions summarized here:\n",
    "http://scikit-learn.org/stable/modules/classes.html#module-sklearn.metrics"
   ]
  },
  {
   "cell_type": "code",
   "execution_count": null,
   "metadata": {
    "collapsed": false
   },
   "outputs": [],
   "source": [
    "# Code for setting the style of the notebook\n",
    "from IPython.core.display import HTML\n",
    "def css_styling():\n",
    "    styles = open(\"../theme/custom.css\", \"r\").read()\n",
    "    return HTML(styles)\n",
    "css_styling()"
   ]
  }
 ],
 "metadata": {
  "celltoolbar": "Raw Cell Format",
  "kernelspec": {
   "display_name": "Python 2",
   "language": "python",
   "name": "python2"
  },
  "language_info": {
   "codemirror_mode": {
    "name": "ipython",
    "version": 2
   },
   "file_extension": ".py",
   "mimetype": "text/x-python",
   "name": "python",
   "nbconvert_exporter": "python",
   "pygments_lexer": "ipython2",
   "version": "2.7.11"
  }
 },
 "nbformat": 4,
 "nbformat_minor": 0
}
